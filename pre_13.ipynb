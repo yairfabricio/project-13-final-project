{
 "cells": [
  {
   "cell_type": "markdown",
   "metadata": {},
   "source": [
    "# Telecomunicaciones: identificar operadores ineficaces"
   ]
  },
  {
   "cell_type": "markdown",
   "metadata": {},
   "source": [
    "## Abrir el archivo de datos y leer la información general"
   ]
  },
  {
   "cell_type": "code",
   "execution_count": 44,
   "metadata": {},
   "outputs": [],
   "source": [
    "#importar librerias\n",
    "import pandas as pd \n",
    "import seaborn as sns\n",
    "import matplotlib.pyplot as plt\n",
    "from statsmodels.stats.proportion import proportions_ztest\n",
    "from scipy import stats as st\n",
    "import numpy as np"
   ]
  },
  {
   "cell_type": "code",
   "execution_count": 45,
   "metadata": {},
   "outputs": [
    {
     "name": "stdout",
     "output_type": "stream",
     "text": [
      "       user_id                       date direction internal  operator_id  \\\n",
      "0       166377  2019-08-04 00:00:00+03:00        in    False          NaN   \n",
      "1       166377  2019-08-05 00:00:00+03:00       out     True     880022.0   \n",
      "2       166377  2019-08-05 00:00:00+03:00       out     True     880020.0   \n",
      "3       166377  2019-08-05 00:00:00+03:00       out     True     880020.0   \n",
      "4       166377  2019-08-05 00:00:00+03:00       out    False     880022.0   \n",
      "...        ...                        ...       ...      ...          ...   \n",
      "53897   168606  2019-11-10 00:00:00+03:00       out     True     957922.0   \n",
      "53898   168606  2019-11-11 00:00:00+03:00       out     True     957922.0   \n",
      "53899   168606  2019-11-15 00:00:00+03:00       out     True     957922.0   \n",
      "53900   168606  2019-11-15 00:00:00+03:00       out     True     957922.0   \n",
      "53901   168606  2019-11-19 00:00:00+03:00        in    False          NaN   \n",
      "\n",
      "       is_missed_call  calls_count  call_duration  total_call_duration  \n",
      "0                True            2              0                    4  \n",
      "1                True            3              0                    5  \n",
      "2                True            1              0                    1  \n",
      "3               False            1             10                   18  \n",
      "4                True            3              0                   25  \n",
      "...               ...          ...            ...                  ...  \n",
      "53897            True            1              0                   38  \n",
      "53898           False            2            479                  501  \n",
      "53899           False            4           3130                 3190  \n",
      "53900           False            4           3130                 3190  \n",
      "53901            True            2              0                   64  \n",
      "\n",
      "[53902 rows x 9 columns]\n",
      "<class 'pandas.core.frame.DataFrame'>\n",
      "RangeIndex: 53902 entries, 0 to 53901\n",
      "Data columns (total 9 columns):\n",
      " #   Column               Non-Null Count  Dtype  \n",
      "---  ------               --------------  -----  \n",
      " 0   user_id              53902 non-null  int64  \n",
      " 1   date                 53902 non-null  object \n",
      " 2   direction            53902 non-null  object \n",
      " 3   internal             53785 non-null  object \n",
      " 4   operator_id          45730 non-null  float64\n",
      " 5   is_missed_call       53902 non-null  bool   \n",
      " 6   calls_count          53902 non-null  int64  \n",
      " 7   call_duration        53902 non-null  int64  \n",
      " 8   total_call_duration  53902 non-null  int64  \n",
      "dtypes: bool(1), float64(1), int64(4), object(3)\n",
      "memory usage: 3.3+ MB\n",
      "None\n"
     ]
    }
   ],
   "source": [
    "#leer el dataset 1\n",
    "dt=pd.read_csv('E:/proyectos/proyecto13/telecom_dataset_us.csv')\n",
    "print(dt)\n",
    "print(dt.info())"
   ]
  },
  {
   "cell_type": "code",
   "execution_count": 46,
   "metadata": {},
   "outputs": [
    {
     "name": "stdout",
     "output_type": "stream",
     "text": [
      "     user_id tariff_plan  date_start\n",
      "0     166713           A  2019-08-15\n",
      "1     166901           A  2019-08-23\n",
      "2     168527           A  2019-10-29\n",
      "3     167097           A  2019-09-01\n",
      "4     168193           A  2019-10-16\n",
      "..       ...         ...         ...\n",
      "727   166554           B  2019-08-08\n",
      "728   166911           B  2019-08-23\n",
      "729   167012           B  2019-08-28\n",
      "730   166867           B  2019-08-22\n",
      "731   166565           B  2019-08-08\n",
      "\n",
      "[732 rows x 3 columns]\n",
      "<class 'pandas.core.frame.DataFrame'>\n",
      "RangeIndex: 732 entries, 0 to 731\n",
      "Data columns (total 3 columns):\n",
      " #   Column       Non-Null Count  Dtype \n",
      "---  ------       --------------  ----- \n",
      " 0   user_id      732 non-null    int64 \n",
      " 1   tariff_plan  732 non-null    object\n",
      " 2   date_start   732 non-null    object\n",
      "dtypes: int64(1), object(2)\n",
      "memory usage: 17.3+ KB\n",
      "None\n"
     ]
    }
   ],
   "source": [
    "#leer el dataset de los clientes\n",
    "clients=pd.read_csv('telecom_clients_us.csv')\n",
    "print(clients)\n",
    "print(clients.info())"
   ]
  },
  {
   "cell_type": "markdown",
   "metadata": {},
   "source": [
    "## Lleva a cabo el análisis exploratorio de datos"
   ]
  },
  {
   "cell_type": "markdown",
   "metadata": {},
   "source": [
    "### Convierte los datos en los tipos necesarios."
   ]
  },
  {
   "cell_type": "code",
   "execution_count": 47,
   "metadata": {},
   "outputs": [],
   "source": [
    "#convertir date a formato fecha del dataset dt\n",
    "dt['date']=pd.to_datetime(dt['date'])\n",
    "#convertir columnas a tipo category\n",
    "dt['direction']= dt['direction'].astype('category')\n",
    "#convertir date a formato fecha del dataset clients\n",
    "clients['date_start']=pd.to_datetime(clients['date_start'])\n",
    "#convertir columnas a tipo category\n",
    "clients['tariff_plan']=clients['tariff_plan'].astype('category')"
   ]
  },
  {
   "cell_type": "markdown",
   "metadata": {},
   "source": [
    "### Encuentra y elimina errores en los datos. Asegúrate de explicar qué errores encontraste y cómo los eliminaste."
   ]
  },
  {
   "cell_type": "code",
   "execution_count": 48,
   "metadata": {},
   "outputs": [],
   "source": [
    "#eliminar las filas nulas del datasets dt de la fila operator_id\n",
    "dt.dropna(inplace=True)\n"
   ]
  },
  {
   "cell_type": "markdown",
   "metadata": {},
   "source": [
    "### Une los dos datasets"
   ]
  },
  {
   "cell_type": "code",
   "execution_count": 49,
   "metadata": {},
   "outputs": [
    {
     "data": {
      "text/html": [
       "<div>\n",
       "<style scoped>\n",
       "    .dataframe tbody tr th:only-of-type {\n",
       "        vertical-align: middle;\n",
       "    }\n",
       "\n",
       "    .dataframe tbody tr th {\n",
       "        vertical-align: top;\n",
       "    }\n",
       "\n",
       "    .dataframe thead th {\n",
       "        text-align: right;\n",
       "    }\n",
       "</style>\n",
       "<table border=\"1\" class=\"dataframe\">\n",
       "  <thead>\n",
       "    <tr style=\"text-align: right;\">\n",
       "      <th></th>\n",
       "      <th>user_id</th>\n",
       "      <th>date</th>\n",
       "      <th>direction</th>\n",
       "      <th>internal</th>\n",
       "      <th>operator_id</th>\n",
       "      <th>is_missed_call</th>\n",
       "      <th>calls_count</th>\n",
       "      <th>call_duration</th>\n",
       "      <th>total_call_duration</th>\n",
       "      <th>tariff_plan</th>\n",
       "      <th>date_start</th>\n",
       "    </tr>\n",
       "  </thead>\n",
       "  <tbody>\n",
       "    <tr>\n",
       "      <th>0</th>\n",
       "      <td>166377</td>\n",
       "      <td>2019-08-05 00:00:00+03:00</td>\n",
       "      <td>out</td>\n",
       "      <td>True</td>\n",
       "      <td>880022.0</td>\n",
       "      <td>True</td>\n",
       "      <td>3</td>\n",
       "      <td>0</td>\n",
       "      <td>5</td>\n",
       "      <td>B</td>\n",
       "      <td>2019-08-01</td>\n",
       "    </tr>\n",
       "    <tr>\n",
       "      <th>1</th>\n",
       "      <td>166377</td>\n",
       "      <td>2019-08-05 00:00:00+03:00</td>\n",
       "      <td>out</td>\n",
       "      <td>True</td>\n",
       "      <td>880020.0</td>\n",
       "      <td>True</td>\n",
       "      <td>1</td>\n",
       "      <td>0</td>\n",
       "      <td>1</td>\n",
       "      <td>B</td>\n",
       "      <td>2019-08-01</td>\n",
       "    </tr>\n",
       "    <tr>\n",
       "      <th>2</th>\n",
       "      <td>166377</td>\n",
       "      <td>2019-08-05 00:00:00+03:00</td>\n",
       "      <td>out</td>\n",
       "      <td>True</td>\n",
       "      <td>880020.0</td>\n",
       "      <td>False</td>\n",
       "      <td>1</td>\n",
       "      <td>10</td>\n",
       "      <td>18</td>\n",
       "      <td>B</td>\n",
       "      <td>2019-08-01</td>\n",
       "    </tr>\n",
       "    <tr>\n",
       "      <th>3</th>\n",
       "      <td>166377</td>\n",
       "      <td>2019-08-05 00:00:00+03:00</td>\n",
       "      <td>out</td>\n",
       "      <td>False</td>\n",
       "      <td>880022.0</td>\n",
       "      <td>True</td>\n",
       "      <td>3</td>\n",
       "      <td>0</td>\n",
       "      <td>25</td>\n",
       "      <td>B</td>\n",
       "      <td>2019-08-01</td>\n",
       "    </tr>\n",
       "    <tr>\n",
       "      <th>4</th>\n",
       "      <td>166377</td>\n",
       "      <td>2019-08-05 00:00:00+03:00</td>\n",
       "      <td>out</td>\n",
       "      <td>False</td>\n",
       "      <td>880020.0</td>\n",
       "      <td>False</td>\n",
       "      <td>2</td>\n",
       "      <td>3</td>\n",
       "      <td>29</td>\n",
       "      <td>B</td>\n",
       "      <td>2019-08-01</td>\n",
       "    </tr>\n",
       "    <tr>\n",
       "      <th>...</th>\n",
       "      <td>...</td>\n",
       "      <td>...</td>\n",
       "      <td>...</td>\n",
       "      <td>...</td>\n",
       "      <td>...</td>\n",
       "      <td>...</td>\n",
       "      <td>...</td>\n",
       "      <td>...</td>\n",
       "      <td>...</td>\n",
       "      <td>...</td>\n",
       "      <td>...</td>\n",
       "    </tr>\n",
       "    <tr>\n",
       "      <th>45665</th>\n",
       "      <td>168606</td>\n",
       "      <td>2019-11-10 00:00:00+03:00</td>\n",
       "      <td>out</td>\n",
       "      <td>True</td>\n",
       "      <td>957922.0</td>\n",
       "      <td>False</td>\n",
       "      <td>1</td>\n",
       "      <td>0</td>\n",
       "      <td>25</td>\n",
       "      <td>C</td>\n",
       "      <td>2019-10-31</td>\n",
       "    </tr>\n",
       "    <tr>\n",
       "      <th>45666</th>\n",
       "      <td>168606</td>\n",
       "      <td>2019-11-10 00:00:00+03:00</td>\n",
       "      <td>out</td>\n",
       "      <td>True</td>\n",
       "      <td>957922.0</td>\n",
       "      <td>True</td>\n",
       "      <td>1</td>\n",
       "      <td>0</td>\n",
       "      <td>38</td>\n",
       "      <td>C</td>\n",
       "      <td>2019-10-31</td>\n",
       "    </tr>\n",
       "    <tr>\n",
       "      <th>45667</th>\n",
       "      <td>168606</td>\n",
       "      <td>2019-11-11 00:00:00+03:00</td>\n",
       "      <td>out</td>\n",
       "      <td>True</td>\n",
       "      <td>957922.0</td>\n",
       "      <td>False</td>\n",
       "      <td>2</td>\n",
       "      <td>479</td>\n",
       "      <td>501</td>\n",
       "      <td>C</td>\n",
       "      <td>2019-10-31</td>\n",
       "    </tr>\n",
       "    <tr>\n",
       "      <th>45668</th>\n",
       "      <td>168606</td>\n",
       "      <td>2019-11-15 00:00:00+03:00</td>\n",
       "      <td>out</td>\n",
       "      <td>True</td>\n",
       "      <td>957922.0</td>\n",
       "      <td>False</td>\n",
       "      <td>4</td>\n",
       "      <td>3130</td>\n",
       "      <td>3190</td>\n",
       "      <td>C</td>\n",
       "      <td>2019-10-31</td>\n",
       "    </tr>\n",
       "    <tr>\n",
       "      <th>45669</th>\n",
       "      <td>168606</td>\n",
       "      <td>2019-11-15 00:00:00+03:00</td>\n",
       "      <td>out</td>\n",
       "      <td>True</td>\n",
       "      <td>957922.0</td>\n",
       "      <td>False</td>\n",
       "      <td>4</td>\n",
       "      <td>3130</td>\n",
       "      <td>3190</td>\n",
       "      <td>C</td>\n",
       "      <td>2019-10-31</td>\n",
       "    </tr>\n",
       "  </tbody>\n",
       "</table>\n",
       "<p>45670 rows × 11 columns</p>\n",
       "</div>"
      ],
      "text/plain": [
       "       user_id                      date direction internal  operator_id  \\\n",
       "0       166377 2019-08-05 00:00:00+03:00       out     True     880022.0   \n",
       "1       166377 2019-08-05 00:00:00+03:00       out     True     880020.0   \n",
       "2       166377 2019-08-05 00:00:00+03:00       out     True     880020.0   \n",
       "3       166377 2019-08-05 00:00:00+03:00       out    False     880022.0   \n",
       "4       166377 2019-08-05 00:00:00+03:00       out    False     880020.0   \n",
       "...        ...                       ...       ...      ...          ...   \n",
       "45665   168606 2019-11-10 00:00:00+03:00       out     True     957922.0   \n",
       "45666   168606 2019-11-10 00:00:00+03:00       out     True     957922.0   \n",
       "45667   168606 2019-11-11 00:00:00+03:00       out     True     957922.0   \n",
       "45668   168606 2019-11-15 00:00:00+03:00       out     True     957922.0   \n",
       "45669   168606 2019-11-15 00:00:00+03:00       out     True     957922.0   \n",
       "\n",
       "       is_missed_call  calls_count  call_duration  total_call_duration  \\\n",
       "0                True            3              0                    5   \n",
       "1                True            1              0                    1   \n",
       "2               False            1             10                   18   \n",
       "3                True            3              0                   25   \n",
       "4               False            2              3                   29   \n",
       "...               ...          ...            ...                  ...   \n",
       "45665           False            1              0                   25   \n",
       "45666            True            1              0                   38   \n",
       "45667           False            2            479                  501   \n",
       "45668           False            4           3130                 3190   \n",
       "45669           False            4           3130                 3190   \n",
       "\n",
       "      tariff_plan date_start  \n",
       "0               B 2019-08-01  \n",
       "1               B 2019-08-01  \n",
       "2               B 2019-08-01  \n",
       "3               B 2019-08-01  \n",
       "4               B 2019-08-01  \n",
       "...           ...        ...  \n",
       "45665           C 2019-10-31  \n",
       "45666           C 2019-10-31  \n",
       "45667           C 2019-10-31  \n",
       "45668           C 2019-10-31  \n",
       "45669           C 2019-10-31  \n",
       "\n",
       "[45670 rows x 11 columns]"
      ]
     },
     "execution_count": 49,
     "metadata": {},
     "output_type": "execute_result"
    }
   ],
   "source": [
    "df= dt.merge(clients,on='user_id')\n",
    "df"
   ]
  },
  {
   "cell_type": "markdown",
   "metadata": {},
   "source": [
    "## Identificar operadores ineficaces"
   ]
  },
  {
   "cell_type": "markdown",
   "metadata": {},
   "source": [
    "se considera operador ineficaz si cumple las siguientes tres caracteristicas"
   ]
  },
  {
   "cell_type": "markdown",
   "metadata": {},
   "source": [
    "### Se considera que un operador es ineficaz si tiene una gran cantidad de llamadas entrantes perdidas (internas y externas)"
   ]
  },
  {
   "cell_type": "markdown",
   "metadata": {},
   "source": [
    "#### contar el numero de llamadas perdidas por operador "
   ]
  },
  {
   "cell_type": "code",
   "execution_count": 50,
   "metadata": {},
   "outputs": [
    {
     "data": {
      "text/html": [
       "<div>\n",
       "<style scoped>\n",
       "    .dataframe tbody tr th:only-of-type {\n",
       "        vertical-align: middle;\n",
       "    }\n",
       "\n",
       "    .dataframe tbody tr th {\n",
       "        vertical-align: top;\n",
       "    }\n",
       "\n",
       "    .dataframe thead th {\n",
       "        text-align: right;\n",
       "    }\n",
       "</style>\n",
       "<table border=\"1\" class=\"dataframe\">\n",
       "  <thead>\n",
       "    <tr style=\"text-align: right;\">\n",
       "      <th></th>\n",
       "      <th>operator_id</th>\n",
       "      <th>is_missed_call</th>\n",
       "    </tr>\n",
       "  </thead>\n",
       "  <tbody>\n",
       "    <tr>\n",
       "      <th>0</th>\n",
       "      <td>879896.0</td>\n",
       "      <td>50</td>\n",
       "    </tr>\n",
       "    <tr>\n",
       "      <th>1</th>\n",
       "      <td>879898.0</td>\n",
       "      <td>100</td>\n",
       "    </tr>\n",
       "    <tr>\n",
       "      <th>2</th>\n",
       "      <td>880020.0</td>\n",
       "      <td>7</td>\n",
       "    </tr>\n",
       "    <tr>\n",
       "      <th>3</th>\n",
       "      <td>880022.0</td>\n",
       "      <td>33</td>\n",
       "    </tr>\n",
       "    <tr>\n",
       "      <th>4</th>\n",
       "      <td>880026.0</td>\n",
       "      <td>94</td>\n",
       "    </tr>\n",
       "    <tr>\n",
       "      <th>...</th>\n",
       "      <td>...</td>\n",
       "      <td>...</td>\n",
       "    </tr>\n",
       "    <tr>\n",
       "      <th>1087</th>\n",
       "      <td>972410.0</td>\n",
       "      <td>2</td>\n",
       "    </tr>\n",
       "    <tr>\n",
       "      <th>1088</th>\n",
       "      <td>972412.0</td>\n",
       "      <td>2</td>\n",
       "    </tr>\n",
       "    <tr>\n",
       "      <th>1089</th>\n",
       "      <td>972460.0</td>\n",
       "      <td>3</td>\n",
       "    </tr>\n",
       "    <tr>\n",
       "      <th>1090</th>\n",
       "      <td>973120.0</td>\n",
       "      <td>1</td>\n",
       "    </tr>\n",
       "    <tr>\n",
       "      <th>1091</th>\n",
       "      <td>973286.0</td>\n",
       "      <td>0</td>\n",
       "    </tr>\n",
       "  </tbody>\n",
       "</table>\n",
       "<p>1092 rows × 2 columns</p>\n",
       "</div>"
      ],
      "text/plain": [
       "      operator_id  is_missed_call\n",
       "0        879896.0              50\n",
       "1        879898.0             100\n",
       "2        880020.0               7\n",
       "3        880022.0              33\n",
       "4        880026.0              94\n",
       "...           ...             ...\n",
       "1087     972410.0               2\n",
       "1088     972412.0               2\n",
       "1089     972460.0               3\n",
       "1090     973120.0               1\n",
       "1091     973286.0               0\n",
       "\n",
       "[1092 rows x 2 columns]"
      ]
     },
     "execution_count": 50,
     "metadata": {},
     "output_type": "execute_result"
    }
   ],
   "source": [
    "loss_call=df.groupby('operator_id')['is_missed_call'].sum().reset_index()\n",
    "loss_call"
   ]
  },
  {
   "cell_type": "markdown",
   "metadata": {},
   "source": [
    "#### considerar las llamadas de duracion 0 como llamadas perdidas"
   ]
  },
  {
   "cell_type": "code",
   "execution_count": 51,
   "metadata": {},
   "outputs": [
    {
     "data": {
      "text/html": [
       "<div>\n",
       "<style scoped>\n",
       "    .dataframe tbody tr th:only-of-type {\n",
       "        vertical-align: middle;\n",
       "    }\n",
       "\n",
       "    .dataframe tbody tr th {\n",
       "        vertical-align: top;\n",
       "    }\n",
       "\n",
       "    .dataframe thead th {\n",
       "        text-align: right;\n",
       "    }\n",
       "</style>\n",
       "<table border=\"1\" class=\"dataframe\">\n",
       "  <thead>\n",
       "    <tr style=\"text-align: right;\">\n",
       "      <th></th>\n",
       "      <th>operator_id</th>\n",
       "      <th>is_missed_call</th>\n",
       "    </tr>\n",
       "  </thead>\n",
       "  <tbody>\n",
       "    <tr>\n",
       "      <th>0</th>\n",
       "      <td>879896.0</td>\n",
       "      <td>50</td>\n",
       "    </tr>\n",
       "    <tr>\n",
       "      <th>1</th>\n",
       "      <td>879898.0</td>\n",
       "      <td>100</td>\n",
       "    </tr>\n",
       "    <tr>\n",
       "      <th>2</th>\n",
       "      <td>880020.0</td>\n",
       "      <td>7</td>\n",
       "    </tr>\n",
       "    <tr>\n",
       "      <th>3</th>\n",
       "      <td>880022.0</td>\n",
       "      <td>33</td>\n",
       "    </tr>\n",
       "    <tr>\n",
       "      <th>4</th>\n",
       "      <td>880026.0</td>\n",
       "      <td>94</td>\n",
       "    </tr>\n",
       "    <tr>\n",
       "      <th>...</th>\n",
       "      <td>...</td>\n",
       "      <td>...</td>\n",
       "    </tr>\n",
       "    <tr>\n",
       "      <th>322</th>\n",
       "      <td>962658.0</td>\n",
       "      <td>2</td>\n",
       "    </tr>\n",
       "    <tr>\n",
       "      <th>323</th>\n",
       "      <td>964510.0</td>\n",
       "      <td>2</td>\n",
       "    </tr>\n",
       "    <tr>\n",
       "      <th>324</th>\n",
       "      <td>965542.0</td>\n",
       "      <td>2</td>\n",
       "    </tr>\n",
       "    <tr>\n",
       "      <th>325</th>\n",
       "      <td>967310.0</td>\n",
       "      <td>1</td>\n",
       "    </tr>\n",
       "    <tr>\n",
       "      <th>326</th>\n",
       "      <td>969272.0</td>\n",
       "      <td>1</td>\n",
       "    </tr>\n",
       "  </tbody>\n",
       "</table>\n",
       "<p>1419 rows × 2 columns</p>\n",
       "</div>"
      ],
      "text/plain": [
       "     operator_id  is_missed_call\n",
       "0       879896.0              50\n",
       "1       879898.0             100\n",
       "2       880020.0               7\n",
       "3       880022.0              33\n",
       "4       880026.0              94\n",
       "..           ...             ...\n",
       "322     962658.0               2\n",
       "323     964510.0               2\n",
       "324     965542.0               2\n",
       "325     967310.0               1\n",
       "326     969272.0               1\n",
       "\n",
       "[1419 rows x 2 columns]"
      ]
     },
     "execution_count": 51,
     "metadata": {},
     "output_type": "execute_result"
    }
   ],
   "source": [
    "#identificar las llamadas con duracion 0\n",
    "loss_cero=df[df['total_call_duration']==0].groupby('operator_id').count()\n",
    "loss_call_cero_duration=loss_cero['is_missed_call'].reset_index()\n",
    "#unir las llamadas de duracion cero a las llamadas perdidas\n",
    "loss_call= pd.concat([loss_call,loss_call_cero_duration],axis=0)\n",
    "loss_call"
   ]
  },
  {
   "cell_type": "markdown",
   "metadata": {},
   "source": [
    "#### realizar un histograma para el numero de llamadas perdidas por operador y halla el promedio"
   ]
  },
  {
   "cell_type": "code",
   "execution_count": 52,
   "metadata": {},
   "outputs": [
    {
     "data": {
      "text/plain": [
       "<Axes: xlabel='is_missed_call', ylabel='Count'>"
      ]
     },
     "execution_count": 52,
     "metadata": {},
     "output_type": "execute_result"
    },
    {
     "data": {
      "image/png": "[encoded data removed]",
      "text/plain": [
       "<Figure size 640x480 with 1 Axes>"
      ]
     },
     "metadata": {},
     "output_type": "display_data"
    }
   ],
   "source": [
    "sns.histplot(data=loss_call['is_missed_call'])"
   ]
  },
  {
   "cell_type": "code",
   "execution_count": 53,
   "metadata": {},
   "outputs": [
    {
     "data": {
      "text/html": [
       "<div>\n",
       "<style scoped>\n",
       "    .dataframe tbody tr th:only-of-type {\n",
       "        vertical-align: middle;\n",
       "    }\n",
       "\n",
       "    .dataframe tbody tr th {\n",
       "        vertical-align: top;\n",
       "    }\n",
       "\n",
       "    .dataframe thead th {\n",
       "        text-align: right;\n",
       "    }\n",
       "</style>\n",
       "<table border=\"1\" class=\"dataframe\">\n",
       "  <thead>\n",
       "    <tr style=\"text-align: right;\">\n",
       "      <th></th>\n",
       "      <th>operator_id</th>\n",
       "      <th>is_missed_call</th>\n",
       "    </tr>\n",
       "  </thead>\n",
       "  <tbody>\n",
       "    <tr>\n",
       "      <th>count</th>\n",
       "      <td>1419.000000</td>\n",
       "      <td>1419.000000</td>\n",
       "    </tr>\n",
       "    <tr>\n",
       "      <th>mean</th>\n",
       "      <td>924349.791402</td>\n",
       "      <td>11.608175</td>\n",
       "    </tr>\n",
       "    <tr>\n",
       "      <th>std</th>\n",
       "      <td>22896.226742</td>\n",
       "      <td>18.560543</td>\n",
       "    </tr>\n",
       "    <tr>\n",
       "      <th>min</th>\n",
       "      <td>879896.000000</td>\n",
       "      <td>0.000000</td>\n",
       "    </tr>\n",
       "    <tr>\n",
       "      <th>25%</th>\n",
       "      <td>905564.000000</td>\n",
       "      <td>1.000000</td>\n",
       "    </tr>\n",
       "    <tr>\n",
       "      <th>50%</th>\n",
       "      <td>923646.000000</td>\n",
       "      <td>3.000000</td>\n",
       "    </tr>\n",
       "    <tr>\n",
       "      <th>75%</th>\n",
       "      <td>941821.000000</td>\n",
       "      <td>15.000000</td>\n",
       "    </tr>\n",
       "    <tr>\n",
       "      <th>max</th>\n",
       "      <td>973286.000000</td>\n",
       "      <td>135.000000</td>\n",
       "    </tr>\n",
       "  </tbody>\n",
       "</table>\n",
       "</div>"
      ],
      "text/plain": [
       "         operator_id  is_missed_call\n",
       "count    1419.000000     1419.000000\n",
       "mean   924349.791402       11.608175\n",
       "std     22896.226742       18.560543\n",
       "min    879896.000000        0.000000\n",
       "25%    905564.000000        1.000000\n",
       "50%    923646.000000        3.000000\n",
       "75%    941821.000000       15.000000\n",
       "max    973286.000000      135.000000"
      ]
     },
     "execution_count": 53,
     "metadata": {},
     "output_type": "execute_result"
    }
   ],
   "source": [
    "loss_call.describe()"
   ]
  },
  {
   "cell_type": "markdown",
   "metadata": {},
   "source": [
    "#### almacenar los operadores que superan la media de llamadas perdidas por operador"
   ]
  },
  {
   "cell_type": "code",
   "execution_count": 54,
   "metadata": {},
   "outputs": [
    {
     "data": {
      "text/html": [
       "<div>\n",
       "<style scoped>\n",
       "    .dataframe tbody tr th:only-of-type {\n",
       "        vertical-align: middle;\n",
       "    }\n",
       "\n",
       "    .dataframe tbody tr th {\n",
       "        vertical-align: top;\n",
       "    }\n",
       "\n",
       "    .dataframe thead th {\n",
       "        text-align: right;\n",
       "    }\n",
       "</style>\n",
       "<table border=\"1\" class=\"dataframe\">\n",
       "  <thead>\n",
       "    <tr style=\"text-align: right;\">\n",
       "      <th></th>\n",
       "      <th>operator_id</th>\n",
       "      <th>is_missed_call</th>\n",
       "    </tr>\n",
       "  </thead>\n",
       "  <tbody>\n",
       "    <tr>\n",
       "      <th>0</th>\n",
       "      <td>879896.0</td>\n",
       "      <td>50</td>\n",
       "    </tr>\n",
       "    <tr>\n",
       "      <th>1</th>\n",
       "      <td>879898.0</td>\n",
       "      <td>100</td>\n",
       "    </tr>\n",
       "    <tr>\n",
       "      <th>3</th>\n",
       "      <td>880022.0</td>\n",
       "      <td>33</td>\n",
       "    </tr>\n",
       "    <tr>\n",
       "      <th>4</th>\n",
       "      <td>880026.0</td>\n",
       "      <td>94</td>\n",
       "    </tr>\n",
       "    <tr>\n",
       "      <th>5</th>\n",
       "      <td>880028.0</td>\n",
       "      <td>91</td>\n",
       "    </tr>\n",
       "    <tr>\n",
       "      <th>...</th>\n",
       "      <td>...</td>\n",
       "      <td>...</td>\n",
       "    </tr>\n",
       "    <tr>\n",
       "      <th>44</th>\n",
       "      <td>893804.0</td>\n",
       "      <td>20</td>\n",
       "    </tr>\n",
       "    <tr>\n",
       "      <th>66</th>\n",
       "      <td>900180.0</td>\n",
       "      <td>18</td>\n",
       "    </tr>\n",
       "    <tr>\n",
       "      <th>75</th>\n",
       "      <td>901880.0</td>\n",
       "      <td>17</td>\n",
       "    </tr>\n",
       "    <tr>\n",
       "      <th>296</th>\n",
       "      <td>952468.0</td>\n",
       "      <td>14</td>\n",
       "    </tr>\n",
       "    <tr>\n",
       "      <th>298</th>\n",
       "      <td>952948.0</td>\n",
       "      <td>18</td>\n",
       "    </tr>\n",
       "  </tbody>\n",
       "</table>\n",
       "<p>421 rows × 2 columns</p>\n",
       "</div>"
      ],
      "text/plain": [
       "     operator_id  is_missed_call\n",
       "0       879896.0              50\n",
       "1       879898.0             100\n",
       "3       880022.0              33\n",
       "4       880026.0              94\n",
       "5       880028.0              91\n",
       "..           ...             ...\n",
       "44      893804.0              20\n",
       "66      900180.0              18\n",
       "75      901880.0              17\n",
       "296     952468.0              14\n",
       "298     952948.0              18\n",
       "\n",
       "[421 rows x 2 columns]"
      ]
     },
     "execution_count": 54,
     "metadata": {},
     "output_type": "execute_result"
    }
   ],
   "source": [
    "operator_with_missed_call=loss_call[loss_call['is_missed_call']>loss_call['is_missed_call'].mean()]\n",
    "operator_with_missed_call"
   ]
  },
  {
   "cell_type": "markdown",
   "metadata": {},
   "source": [
    "se obtuvo 358 operadores que superaron el umbral de perdidas de llamadas"
   ]
  },
  {
   "cell_type": "markdown",
   "metadata": {},
   "source": [
    "### Se considera que un operador es ineficaz si tiene un tiempo de espera prolongado para las llamadas entrantes"
   ]
  },
  {
   "cell_type": "markdown",
   "metadata": {},
   "source": [
    "#### restar call_duration a total_call_duration para hallar el tiempo de espera"
   ]
  },
  {
   "cell_type": "code",
   "execution_count": 55,
   "metadata": {},
   "outputs": [
    {
     "data": {
      "text/html": [
       "<div>\n",
       "<style scoped>\n",
       "    .dataframe tbody tr th:only-of-type {\n",
       "        vertical-align: middle;\n",
       "    }\n",
       "\n",
       "    .dataframe tbody tr th {\n",
       "        vertical-align: top;\n",
       "    }\n",
       "\n",
       "    .dataframe thead th {\n",
       "        text-align: right;\n",
       "    }\n",
       "</style>\n",
       "<table border=\"1\" class=\"dataframe\">\n",
       "  <thead>\n",
       "    <tr style=\"text-align: right;\">\n",
       "      <th></th>\n",
       "      <th>operator_id</th>\n",
       "      <th>0</th>\n",
       "    </tr>\n",
       "  </thead>\n",
       "  <tbody>\n",
       "    <tr>\n",
       "      <th>0</th>\n",
       "      <td>879896.0</td>\n",
       "      <td>14166</td>\n",
       "    </tr>\n",
       "    <tr>\n",
       "      <th>1</th>\n",
       "      <td>879898.0</td>\n",
       "      <td>112965</td>\n",
       "    </tr>\n",
       "    <tr>\n",
       "      <th>2</th>\n",
       "      <td>880020.0</td>\n",
       "      <td>334</td>\n",
       "    </tr>\n",
       "    <tr>\n",
       "      <th>3</th>\n",
       "      <td>880022.0</td>\n",
       "      <td>4375</td>\n",
       "    </tr>\n",
       "    <tr>\n",
       "      <th>4</th>\n",
       "      <td>880026.0</td>\n",
       "      <td>23992</td>\n",
       "    </tr>\n",
       "    <tr>\n",
       "      <th>...</th>\n",
       "      <td>...</td>\n",
       "      <td>...</td>\n",
       "    </tr>\n",
       "    <tr>\n",
       "      <th>1087</th>\n",
       "      <td>972410.0</td>\n",
       "      <td>1498</td>\n",
       "    </tr>\n",
       "    <tr>\n",
       "      <th>1088</th>\n",
       "      <td>972412.0</td>\n",
       "      <td>1050</td>\n",
       "    </tr>\n",
       "    <tr>\n",
       "      <th>1089</th>\n",
       "      <td>972460.0</td>\n",
       "      <td>801</td>\n",
       "    </tr>\n",
       "    <tr>\n",
       "      <th>1090</th>\n",
       "      <td>973120.0</td>\n",
       "      <td>20</td>\n",
       "    </tr>\n",
       "    <tr>\n",
       "      <th>1091</th>\n",
       "      <td>973286.0</td>\n",
       "      <td>88</td>\n",
       "    </tr>\n",
       "  </tbody>\n",
       "</table>\n",
       "<p>1092 rows × 2 columns</p>\n",
       "</div>"
      ],
      "text/plain": [
       "      operator_id       0\n",
       "0        879896.0   14166\n",
       "1        879898.0  112965\n",
       "2        880020.0     334\n",
       "3        880022.0    4375\n",
       "4        880026.0   23992\n",
       "...           ...     ...\n",
       "1087     972410.0    1498\n",
       "1088     972412.0    1050\n",
       "1089     972460.0     801\n",
       "1090     973120.0      20\n",
       "1091     973286.0      88\n",
       "\n",
       "[1092 rows x 2 columns]"
      ]
     },
     "execution_count": 55,
     "metadata": {},
     "output_type": "execute_result"
    }
   ],
   "source": [
    "wait_call=df.groupby('operator_id')['total_call_duration'].sum()-df.groupby('operator_id')['call_duration'].sum()\n",
    "wait_call=wait_call.reset_index()\n",
    "wait_call"
   ]
  },
  {
   "cell_type": "markdown",
   "metadata": {},
   "source": [
    "#### realizar un histograma para el tiempo de espera y halla el promedio"
   ]
  },
  {
   "cell_type": "code",
   "execution_count": 56,
   "metadata": {},
   "outputs": [
    {
     "data": {
      "text/plain": [
       "<matplotlib.collections.PathCollection at 0x24c3e209d10>"
      ]
     },
     "execution_count": 56,
     "metadata": {},
     "output_type": "execute_result"
    },
    {
     "data": {
      "image/png": "[encoded data removed]",
      "text/plain": [
       "<Figure size 640x480 with 1 Axes>"
      ]
     },
     "metadata": {},
     "output_type": "display_data"
    }
   ],
   "source": [
    "x_values = pd.Series(range(0, len(wait_call[0])))\n",
    "plt.scatter(x_values, wait_call[0])"
   ]
  },
  {
   "cell_type": "code",
   "execution_count": 57,
   "metadata": {},
   "outputs": [
    {
     "name": "stdout",
     "output_type": "stream",
     "text": [
      "[ 14141.2   49424.95 106576.8 ]\n"
     ]
    },
    {
     "data": {
      "text/plain": [
       "<Axes: xlabel='0', ylabel='Count'>"
      ]
     },
     "execution_count": 57,
     "metadata": {},
     "output_type": "execute_result"
    },
    {
     "data": {
      "image/png": "[encoded data removed]",
      "text/plain": [
       "<Figure size 640x480 with 1 Axes>"
      ]
     },
     "metadata": {},
     "output_type": "display_data"
    }
   ],
   "source": [
    "#filtrar los datos anomalos en wait_call\n",
    "print(np.percentile(wait_call[0], [80, 95, 99]))\n",
    "abnormal_users=wait_call[wait_call[0]>14141]['operator_id']\n",
    "# excluir los datos anomalos del grafico\n",
    "wait_call_filtered=wait_call[~wait_call['operator_id'].isin(abnormal_users)]\n",
    "sns.histplot(data=wait_call_filtered[0])\n"
   ]
  },
  {
   "cell_type": "code",
   "execution_count": 58,
   "metadata": {},
   "outputs": [
    {
     "data": {
      "text/plain": [
       "count      873.000000\n",
       "mean      2012.378007\n",
       "std       3097.340749\n",
       "min          0.000000\n",
       "25%        104.000000\n",
       "50%        499.000000\n",
       "75%       2429.000000\n",
       "max      14042.000000\n",
       "Name: 0, dtype: float64"
      ]
     },
     "execution_count": 58,
     "metadata": {},
     "output_type": "execute_result"
    }
   ],
   "source": [
    "wait_call_filtered[0].describe()"
   ]
  },
  {
   "cell_type": "markdown",
   "metadata": {},
   "source": [
    "#### almacenar los operadores que superan el promedio de tiempo de espera"
   ]
  },
  {
   "cell_type": "code",
   "execution_count": 59,
   "metadata": {},
   "outputs": [],
   "source": [
    "operator_with_wait_call=wait_call[wait_call[0]>wait_call[0].mean()]\n",
    "operator_with_wait_call\n",
    "oprator_with_wait_call_filtered=wait_call_filtered[wait_call_filtered[0]>wait_call_filtered[0].mean()]"
   ]
  },
  {
   "cell_type": "markdown",
   "metadata": {},
   "source": [
    "se observa 230 operadores que superaron el umbral de tiempo de espera"
   ]
  },
  {
   "cell_type": "markdown",
   "metadata": {},
   "source": [
    "### Se considera que un operador es ineficaz si tiene un numero de llamadas salientes reducido"
   ]
  },
  {
   "cell_type": "markdown",
   "metadata": {},
   "source": [
    "#### contar el numero de llamadas out para cada operador"
   ]
  },
  {
   "cell_type": "code",
   "execution_count": 60,
   "metadata": {},
   "outputs": [
    {
     "data": {
      "text/plain": [
       "operator_id\n",
       "879896.0    105\n",
       "879898.0    187\n",
       "880020.0     14\n",
       "880022.0     68\n",
       "880026.0    179\n",
       "           ... \n",
       "972408.0      3\n",
       "972410.0      4\n",
       "972412.0      4\n",
       "972460.0      7\n",
       "973120.0      2\n",
       "Name: direction, Length: 882, dtype: int64"
      ]
     },
     "execution_count": 60,
     "metadata": {},
     "output_type": "execute_result"
    }
   ],
   "source": [
    "call_out=df[df['direction']=='out'].groupby('operator_id').count()\n",
    "call_out['direction']"
   ]
  },
  {
   "cell_type": "markdown",
   "metadata": {},
   "source": [
    "####  realizar un histograma para el numero de llamadas out para cada operador y halla el promedio"
   ]
  },
  {
   "cell_type": "code",
   "execution_count": 61,
   "metadata": {},
   "outputs": [
    {
     "name": "stdout",
     "output_type": "stream",
     "text": [
      "35.96031746031746\n"
     ]
    },
    {
     "data": {
      "image/png": "[encoded data removed]",
      "text/plain": [
       "<Figure size 640x480 with 1 Axes>"
      ]
     },
     "metadata": {},
     "output_type": "display_data"
    }
   ],
   "source": [
    "sns.histplot(data=call_out['direction'])\n",
    "print(call_out['direction'].mean())"
   ]
  },
  {
   "cell_type": "markdown",
   "metadata": {},
   "source": [
    "#### almacenar a los operadores que tienen un numero de llamadas menor que el promedio"
   ]
  },
  {
   "cell_type": "code",
   "execution_count": 62,
   "metadata": {},
   "outputs": [
    {
     "data": {
      "text/html": [
       "<div>\n",
       "<style scoped>\n",
       "    .dataframe tbody tr th:only-of-type {\n",
       "        vertical-align: middle;\n",
       "    }\n",
       "\n",
       "    .dataframe tbody tr th {\n",
       "        vertical-align: top;\n",
       "    }\n",
       "\n",
       "    .dataframe thead th {\n",
       "        text-align: right;\n",
       "    }\n",
       "</style>\n",
       "<table border=\"1\" class=\"dataframe\">\n",
       "  <thead>\n",
       "    <tr style=\"text-align: right;\">\n",
       "      <th></th>\n",
       "      <th>operator_id</th>\n",
       "      <th>direction</th>\n",
       "    </tr>\n",
       "  </thead>\n",
       "  <tbody>\n",
       "    <tr>\n",
       "      <th>0</th>\n",
       "      <td>880020.0</td>\n",
       "      <td>14</td>\n",
       "    </tr>\n",
       "    <tr>\n",
       "      <th>1</th>\n",
       "      <td>880240.0</td>\n",
       "      <td>14</td>\n",
       "    </tr>\n",
       "    <tr>\n",
       "      <th>2</th>\n",
       "      <td>881278.0</td>\n",
       "      <td>8</td>\n",
       "    </tr>\n",
       "    <tr>\n",
       "      <th>3</th>\n",
       "      <td>882478.0</td>\n",
       "      <td>1</td>\n",
       "    </tr>\n",
       "    <tr>\n",
       "      <th>4</th>\n",
       "      <td>882688.0</td>\n",
       "      <td>8</td>\n",
       "    </tr>\n",
       "    <tr>\n",
       "      <th>...</th>\n",
       "      <td>...</td>\n",
       "      <td>...</td>\n",
       "    </tr>\n",
       "    <tr>\n",
       "      <th>551</th>\n",
       "      <td>972408.0</td>\n",
       "      <td>3</td>\n",
       "    </tr>\n",
       "    <tr>\n",
       "      <th>552</th>\n",
       "      <td>972410.0</td>\n",
       "      <td>4</td>\n",
       "    </tr>\n",
       "    <tr>\n",
       "      <th>553</th>\n",
       "      <td>972412.0</td>\n",
       "      <td>4</td>\n",
       "    </tr>\n",
       "    <tr>\n",
       "      <th>554</th>\n",
       "      <td>972460.0</td>\n",
       "      <td>7</td>\n",
       "    </tr>\n",
       "    <tr>\n",
       "      <th>555</th>\n",
       "      <td>973120.0</td>\n",
       "      <td>2</td>\n",
       "    </tr>\n",
       "  </tbody>\n",
       "</table>\n",
       "<p>556 rows × 2 columns</p>\n",
       "</div>"
      ],
      "text/plain": [
       "     operator_id  direction\n",
       "0       880020.0         14\n",
       "1       880240.0         14\n",
       "2       881278.0          8\n",
       "3       882478.0          1\n",
       "4       882688.0          8\n",
       "..           ...        ...\n",
       "551     972408.0          3\n",
       "552     972410.0          4\n",
       "553     972412.0          4\n",
       "554     972460.0          7\n",
       "555     973120.0          2\n",
       "\n",
       "[556 rows x 2 columns]"
      ]
     },
     "execution_count": 62,
     "metadata": {},
     "output_type": "execute_result"
    }
   ],
   "source": [
    "operator_with_less_out=call_out[call_out['direction']<call_out['direction'].mean()]\n",
    "operator_with_less_out=operator_with_less_out['direction'].reset_index()\n",
    "operator_with_less_out"
   ]
  },
  {
   "cell_type": "markdown",
   "metadata": {},
   "source": [
    "hay 556 operadores con deficiencia de llamadas salientes"
   ]
  },
  {
   "cell_type": "markdown",
   "metadata": {},
   "source": [
    "### identificar a los operadores que cumplen con las tres condiciones anteriores y almacenarlos en la variable ineficaz"
   ]
  },
  {
   "cell_type": "code",
   "execution_count": 63,
   "metadata": {},
   "outputs": [
    {
     "name": "stdout",
     "output_type": "stream",
     "text": [
      "Numero de operadores ineficientes:39\n"
     ]
    }
   ],
   "source": [
    "conjunto1 = set(operator_with_missed_call['operator_id'])\n",
    "conjunto2 = set(operator_with_wait_call['operator_id'])\n",
    "conjunto3 = set(operator_with_less_out['operator_id'])\n",
    "\n",
    "# Encontrar la intersección de los conjuntos\n",
    "ineficaz = list(conjunto1.intersection(conjunto2, conjunto3))\n",
    "\n",
    "# Ahora, ineficaz contiene los elementos presentes en las tres series\n",
    "print(f'Numero de operadores ineficientes:{len(ineficaz)}')"
   ]
  },
  {
   "cell_type": "markdown",
   "metadata": {},
   "source": [
    "## Prueba las hipótesis estadísticas"
   ]
  },
  {
   "cell_type": "markdown",
   "metadata": {},
   "source": [
    "### Hay diferencia significativa entre el tamaño de las muestras de los operadores ineficaces en las tres tarifas actuales de la clientela"
   ]
  },
  {
   "cell_type": "code",
   "execution_count": 64,
   "metadata": {},
   "outputs": [
    {
     "name": "stdout",
     "output_type": "stream",
     "text": [
      "Hay una diferencia estadísticamente significativa.\n",
      "Hay una diferencia estadísticamente significativa.\n",
      "Hay una diferencia estadísticamente significativa.\n"
     ]
    }
   ],
   "source": [
    "# filtrar los operadores ineficaces en el df para la tarifa a \n",
    "operator_ineficiente_a=df[df['tariff_plan']=='A']['operator_id'].isin(ineficaz).astype(int)\n",
    "operator_ineficiente_a\n",
    "#filtrar los operadors ineficientes en el df para la tarifa b\n",
    "operator_ineficiente_b=df[df['tariff_plan']=='B']['operator_id'].isin(ineficaz).astype(int)\n",
    "#filtrar los operadors ineficientes en el df para la tarifa c\n",
    "operator_ineficiente_c=df[df['tariff_plan']=='C']['operator_id'].isin(ineficaz).astype(int)\n",
    "#funcion para hacer las pruebas z\n",
    "def realizar_prueba_z_e_imprimir_resultado(grupo_1, grupo_2, alpha=0.05):\n",
    "    # Realizar la prueba de diferencia de proporciones:\n",
    "    z_stat, p_value = proportions_ztest([grupo_1.sum(), grupo_2.sum()], [len(grupo_1), len(grupo_2)])\n",
    "\n",
    "\n",
    "    if p_value < alpha:\n",
    "        print(\"Hay una diferencia estadísticamente significativa.\")\n",
    "    else:\n",
    "        print(\"No hay evidencia suficiente para afirmar que hay una diferencia estadísticamente significativa.\")\n",
    "#realizar la primera prueba\n",
    "realizar_prueba_z_e_imprimir_resultado(operator_ineficiente_a,operator_ineficiente_b)\n",
    "#realizar la segunda prueba\n",
    "realizar_prueba_z_e_imprimir_resultado(operator_ineficiente_b,operator_ineficiente_c)\n",
    "#realizar la tercera prueba\n",
    "realizar_prueba_z_e_imprimir_resultado(operator_ineficiente_c,operator_ineficiente_a)"
   ]
  },
  {
   "cell_type": "markdown",
   "metadata": {},
   "source": [
    "- H0: las proporciones de operadores ineficentes entre los grupos de las tarifas son iguales\n",
    "- H1: las proporciones de operadores ineficientes entre los grupos son diferentes"
   ]
  },
  {
   "cell_type": "markdown",
   "metadata": {},
   "source": [
    "En este caso rechazamos la hipotesis nula ya que en los tres tipos de tarifa las proporciones de los operadores ineficientes tuvieron una diferencia estadísticamente significativa."
   ]
  },
  {
   "cell_type": "markdown",
   "metadata": {},
   "source": [
    "### Las llamadas entrantes perdidas promedio de los operadores eficaces y los operadores ineficaces son diferentes"
   ]
  },
  {
   "cell_type": "markdown",
   "metadata": {},
   "source": [
    "- H0: el promedio de las llamadas entrantes promedio de los operadores eficaces y los operadores ineficaces son iguales\n",
    "- H1: el promedio de las llamadas entrantes promedio de los operadores eficaces y los operadores ineficaces son diferentes"
   ]
  },
  {
   "cell_type": "code",
   "execution_count": 65,
   "metadata": {},
   "outputs": [
    {
     "name": "stdout",
     "output_type": "stream",
     "text": [
      "valor p: 5.801112668407573e-19\n",
      "Rechazamos la hipótesis nula: la diferencia es estadísticamente significativa\n"
     ]
    }
   ],
   "source": [
    "missed_call_operator_eficaz=df[~df['operator_id'].isin(ineficaz)]['is_missed_call'].astype(int)\n",
    "missed_call_operator_ineficaz=df[df['operator_id'].isin(ineficaz)]['is_missed_call'].astype(int)\n",
    "alpha = 0.05\n",
    "results = st.mannwhitneyu(missed_call_operator_eficaz,missed_call_operator_ineficaz)\n",
    "print('valor p:',results.pvalue)\n",
    "if results.pvalue < alpha:\n",
    "    print(\"Rechazamos la hipótesis nula: la diferencia es estadísticamente significativa\")\n",
    "else:\n",
    "    print(\"No podemos rechazar la hipótesis nula:  no podemos sacar conclusiones sobre la diferencia\")"
   ]
  },
  {
   "cell_type": "markdown",
   "metadata": {},
   "source": [
    "### el tiempo de espera de los operadores eficaces y los ineficaces son diferentes"
   ]
  },
  {
   "cell_type": "markdown",
   "metadata": {},
   "source": [
    "- H0: el tiempo de espera entre los operadores eficaces y los ineficaces es igual\n",
    "- H1: el tiempo de espera entre los operadores eficaces y los ineficaces son diferentes"
   ]
  },
  {
   "cell_type": "code",
   "execution_count": 66,
   "metadata": {},
   "outputs": [
    {
     "name": "stdout",
     "output_type": "stream",
     "text": [
      "valor p: 2.3980557541397132e-17\n",
      "Rechazamos la hipótesis nula :la diferencia es estadísticamente significativa\n"
     ]
    }
   ],
   "source": [
    "wait_time_eficaz=wait_call[~wait_call['operator_id'].isin(ineficaz)][0]\n",
    "wait_time_ineficaz=wait_call[wait_call['operator_id'].isin(ineficaz)][0]\n",
    "alpha = 0.05\n",
    "results = st.mannwhitneyu(wait_time_eficaz,wait_time_ineficaz)\n",
    "print('valor p:',results.pvalue)\n",
    "if results.pvalue < alpha:\n",
    "    print(\"Rechazamos la hipótesis nula :la diferencia es estadísticamente significativa\")\n",
    "else:\n",
    "    print(\"No podemos rechazar la hipótesis nula:  no podemos sacar conclusiones sobre la diferencia\")"
   ]
  },
  {
   "cell_type": "markdown",
   "metadata": {},
   "source": [
    "#### el tiempo de espera de los operadores eficaces y los ineficaces son diferentes utilizando los datos filtrados"
   ]
  },
  {
   "cell_type": "markdown",
   "metadata": {},
   "source": [
    "- H0: el tiempo de espera entre los operadores eficaces y los ineficaces es igual\n",
    "- H1: el tiempo de espera entre los operadores eficaces y los ineficaces son diferentes"
   ]
  },
  {
   "cell_type": "code",
   "execution_count": 67,
   "metadata": {},
   "outputs": [
    {
     "name": "stdout",
     "output_type": "stream",
     "text": [
      "valor p: 0.003020801813213639\n",
      "Rechazamos la hipótesis nula :la diferencia es estadísticamente significativa\n"
     ]
    }
   ],
   "source": [
    "wait_time_eficaz_filtered=wait_call_filtered[~wait_call_filtered['operator_id'].isin(ineficaz)][0]\n",
    "wait_time_ineficaz_filtered=wait_call_filtered[wait_call_filtered['operator_id'].isin(ineficaz)][0]\n",
    "alpha = 0.05\n",
    "results = st.mannwhitneyu(wait_time_eficaz_filtered,wait_time_ineficaz_filtered)\n",
    "print('valor p:',results.pvalue)\n",
    "if results.pvalue < alpha:\n",
    "    print(\"Rechazamos la hipótesis nula :la diferencia es estadísticamente significativa\")\n",
    "else:\n",
    "    print(\"No podemos rechazar la hipótesis nula:  no podemos sacar conclusiones sobre la diferencia\")"
   ]
  },
  {
   "cell_type": "markdown",
   "metadata": {},
   "source": [
    "### el numero de llamadas salientes de los operadares eficaces y los ineficaces son diferentes"
   ]
  },
  {
   "cell_type": "markdown",
   "metadata": {},
   "source": [
    "- H0: el numero de llamadas salientes de los operadores eficaces e ineficaces son los mismos\n",
    "- H1: el numero de llamadas salientes de los operadores eficaces e ineficaces son diferentes"
   ]
  },
  {
   "cell_type": "code",
   "execution_count": 68,
   "metadata": {},
   "outputs": [
    {
     "name": "stdout",
     "output_type": "stream",
     "text": [
      "valor p: 1.5812433025295902e-19\n",
      "Rechazamos la hipótesis nula:la diferencia es estadísticamente significativa\n"
     ]
    }
   ],
   "source": [
    "less_out_eficaz=operator_with_less_out[~operator_with_less_out['operator_id'].isin(ineficaz)]['direction']\n",
    "less_out_ineficaz=operator_with_less_out[operator_with_less_out['operator_id'].isin(ineficaz)]['direction']\n",
    "alpha = 0.05\n",
    "results = st.mannwhitneyu(less_out_eficaz,less_out_ineficaz)\n",
    "print('valor p:',results.pvalue)\n",
    "if results.pvalue < alpha:\n",
    "    print(\"Rechazamos la hipótesis nula:la diferencia es estadísticamente significativa\")\n",
    "else:\n",
    "    print(\"No podemos rechazar la hipótesis nula:  no podemos sacar conclusiones sobre la diferencia\")"
   ]
  },
  {
   "cell_type": "markdown",
   "metadata": {},
   "source": [
    "## Escribe una conclusión general"
   ]
  },
  {
   "cell_type": "markdown",
   "metadata": {},
   "source": [
    "- Hay una diferencia entre los operadores ineficaces con respecto a las muestras tomadas de cada tarifa de la clientela, por lo que habria que analizar en cada especifico como es el comportamiento de ciertos operadores en cada plan para determinar una posible causa\n",
    "- De las tres pruebas estidisticas hechas acerca de las condiciones tiene que cumplir un operador para que se le considere ineficaz comparado con un operador eficaz, en todas incluida la prueba filtrada con los datos atipicos en el caso de tiempo de espera prolongado dieron que ambos grupos tienen una diferencia significativa hablando de las medias por lo tanto podemos concluir que confirmamos los criterios que se toman en cuenta para identificar los operadores ineficaces."
   ]
  },
  {
   "cell_type": "markdown",
   "metadata": {},
   "source": []
  }
 ],
 "metadata": {
  "kernelspec": {
   "display_name": "Python 3 (ipykernel)",
   "language": "python",
   "name": "python3"
  },
  "language_info": {
   "codemirror_mode": {
    "name": "ipython",
    "version": 3
   },
   "file_extension": ".py",
   "mimetype": "text/x-python",
   "name": "python",
   "nbconvert_exporter": "python",
   "pygments_lexer": "ipython3",
   "version": "3.11.4"
  },
  "toc": {
   "base_numbering": 1,
   "nav_menu": {},
   "number_sections": true,
   "sideBar": true,
   "skip_h1_title": true,
   "title_cell": "Table of Contents",
   "title_sidebar": "Contents",
   "toc_cell": false,
   "toc_position": {},
   "toc_section_display": true,
   "toc_window_display": false
  }
 },
 "nbformat": 4,
 "nbformat_minor": 2
}
